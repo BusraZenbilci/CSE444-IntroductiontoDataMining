{
  "cells": [
    {
      "cell_type": "code",
      "source": [
        "############# Import necessary libraries #############\n",
        "\n",
        "import pandas as pd\n",
        "import numpy as np\n",
        "import scipy as sc\n",
        "import matplotlib.pyplot as plt\n",
        "from sklearn.preprocessing import OneHotEncoder\n",
        "from sklearn.impute import SimpleImputer #imputing the missing values for Age\n",
        "from sklearn.preprocessing import LabelEncoder\n",
        "from sklearn.compose import ColumnTransformer\n",
        "from sklearn.model_selection import train_test_split\n",
        "from sklearn.preprocessing import StandardScaler"
      ],
      "outputs": [],
      "execution_count": 1,
      "metadata": {}
    },
    {
      "cell_type": "code",
      "source": [
        "############# Load the Titanic dataset #############\n",
        "\n",
        "pd.set_option('display.max_columns', None)\n",
        "pd.set_option('display.width', 500)\n",
        "pd.set_option('display.float_format', lambda x: '%.4f' % x)\n",
        "\n",
        "df = pd.read_csv(\"dataset/titanic.csv\", header=3)\n",
        "df = df.drop(df.columns[[0, 1]], axis=1)\n",
        "\n",
        "df.head()"
      ],
      "outputs": [],
      "execution_count": null,
      "metadata": {}
    },
    {
      "cell_type": "code",
      "source": [
        "############# Preprocessing Step (Handle Missing by filtering and median for) #############\n",
        "\n",
        "df.info()  # there is only missing value in age column\n",
        "print(df.isnull().sum())   # 4 data missing in age column\n",
        "\n",
        "plt.hist(df['Age'], bins=20, color='skyblue', edgecolor='black')\n",
        "plt.title('Age Distribution')\n",
        "plt.xlabel('Age')\n",
        "plt.ylabel('Frequency')\n",
        "plt.show()\n",
        "\n",
        "imputer = SimpleImputer(strategy=\"mean\")\n",
        "df[\"Age\"] = imputer.fit_transform(df[[\"Age\"]])"
      ],
      "outputs": [],
      "execution_count": null,
      "metadata": {}
    },
    {
      "cell_type": "code",
      "source": [
        "############# Apply 1-Hot Encoding #############\n",
        "\n",
        "#dropping passenger id, name, ticket\n",
        "df = df.drop(['PassengerId', 'Name', 'Ticket'], axis=1)\n",
        "\n",
        "label_encoder = LabelEncoder()\n",
        "df['Survived'] = label_encoder.fit_transform(df['Survived'])  # 1: yes ,  2: no\n",
        "df['Sex'] = label_encoder.fit_transform(df['Sex'])  # 1: female  , 2: male\n",
        "df = pd.get_dummies(df, columns=[\"Embarked\"])\n",
        "print(df)"
      ],
      "outputs": [],
      "execution_count": null,
      "metadata": {}
    },
    {
      "cell_type": "code",
      "source": [
        "############# Separate features and target #############\n",
        "\n",
        "X = df.drop('Survived', axis=1) #Selecting the features\n",
        "y = df['Survived'] #Selecting the prediction target"
      ],
      "outputs": [],
      "execution_count": null,
      "metadata": {}
    },
    {
      "cell_type": "code",
      "source": [
        "############# Split the dataset into an 80-20 training-test set #############\n",
        "\n",
        "X_train, X_test, y_train, y_test = train_test_split(X, y, test_size=0.2, random_state=42)"
      ],
      "outputs": [],
      "execution_count": null,
      "metadata": {}
    },
    {
      "cell_type": "code",
      "source": [
        "############ Create an instance of the StandardScaler class #############\n",
        "scaler = StandardScaler()\n",
        "scaler.fit(X_train)"
      ],
      "outputs": [],
      "execution_count": null,
      "metadata": {}
    },
    {
      "cell_type": "code",
      "source": [
        "############# Fit the StandardScaler on the features from the training set and transform it #############\n",
        "X_train_scaled = scaler.fit_transform(X_train)"
      ],
      "outputs": [],
      "execution_count": null,
      "metadata": {}
    },
    {
      "cell_type": "code",
      "source": [
        "############# Apply the transform to the test set #############\n",
        "X_test_scaled = scaler.transform(X_test)"
      ],
      "outputs": [],
      "execution_count": null,
      "metadata": {}
    },
    {
      "cell_type": "code",
      "source": [
        "############# Print the scaled training and test datasets #############\n",
        "print(\"Scaled Training Dataset:\")\n",
        "print(X_train_scaled)\n",
        "print(\"\\nScaled Test Dataset:\")\n",
        "print(X_test_scaled)"
      ],
      "outputs": [],
      "execution_count": null,
      "metadata": {}
    }
  ],
  "metadata": {
    "kernelspec": {
      "display_name": "base",
      "language": "python",
      "name": "python3"
    },
    "language_info": {
      "codemirror_mode": {
        "name": "ipython",
        "version": 3
      },
      "file_extension": ".py",
      "mimetype": "text/x-python",
      "name": "python",
      "nbconvert_exporter": "python",
      "pygments_lexer": "ipython3",
      "version": "3.11.4"
    },
    "nteract": {
      "version": "nteract-front-end@1.0.0"
    }
  },
  "nbformat": 4,
  "nbformat_minor": 2
}