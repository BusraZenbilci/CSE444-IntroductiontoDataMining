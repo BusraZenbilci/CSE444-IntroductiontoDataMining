{
  "nbformat": 4,
  "nbformat_minor": 0,
  "metadata": {
    "colab": {
      "provenance": []
    },
    "kernelspec": {
      "name": "python3",
      "display_name": "Python 3"
    },
    "language_info": {
      "name": "python"
    }
  },
  "cells": [
    {
      "cell_type": "code",
      "execution_count": null,
      "metadata": {
        "id": "Gt3-sDtvDwIA"
      },
      "outputs": [],
      "source": [
        "import pandas as pd\n",
        "from sklearn.model_selection import train_test_split\n",
        "from sklearn.preprocessing import PolynomialFeatures\n",
        "from sklearn.linear_model import LinearRegression\n",
        "from sklearn.metrics import mean_squared_error, r2_score"
      ]
    },
    {
      "cell_type": "code",
      "source": [
        "data = pd.read_csv('dataset/Tesla.csv')\n",
        "print(data.head())"
      ],
      "metadata": {
        "id": "CW_6mMFjD01m"
      },
      "execution_count": null,
      "outputs": []
    },
    {
      "cell_type": "code",
      "source": [
        "print(data.info())"
      ],
      "metadata": {
        "id": "oQk0VhiiD4Yd"
      },
      "execution_count": null,
      "outputs": []
    },
    {
      "cell_type": "code",
      "source": [
        "data['Date'] = pd.to_datetime(data['Date'])"
      ],
      "metadata": {
        "id": "r-loJL2WD7h3"
      },
      "execution_count": null,
      "outputs": []
    },
    {
      "cell_type": "code",
      "source": [
        "# Prepare the features and target variable for the regression model.\n",
        "X = data[['Open', 'High', 'Low', 'Volume']]  # Features\n",
        "y = data['Close']  # Target"
      ],
      "metadata": {
        "id": "m-Io1nBOD9HY"
      },
      "execution_count": null,
      "outputs": []
    },
    {
      "cell_type": "code",
      "source": [
        "# Split the data into training and testing sets.\n",
        "# 80% of the data is used for training and 20% for testing.\n",
        "X_train, X_test, y_train, y_test = train_test_split(X, y, test_size=0.2, random_state=42)"
      ],
      "metadata": {
        "id": "9ZwucT7DD_DB"
      },
      "execution_count": null,
      "outputs": []
    },
    {
      "cell_type": "code",
      "source": [
        "# Create polynomial features from the existing features.\n",
        "# We choose a polynomial degree of 3 to capture more complex relationships in the data.\n",
        "degree = 3\n",
        "poly_features = PolynomialFeatures(degree=degree, include_bias=False)\n",
        "X_train_poly = poly_features.fit_transform(X_train)\n",
        "X_test_poly = poly_features.transform(X_test)"
      ],
      "metadata": {
        "id": "WnR4GmKeEBMi"
      },
      "execution_count": null,
      "outputs": []
    },
    {
      "cell_type": "code",
      "source": [
        "# Fit the Polynomial Regression model to the training data.\n",
        "# LinearRegression is used to handle the polynomial features.\n",
        "model = LinearRegression()\n",
        "model.fit(X_train_poly, y_train)"
      ],
      "metadata": {
        "id": "9J6v0aXaEDGh"
      },
      "execution_count": null,
      "outputs": []
    },
    {
      "cell_type": "code",
      "source": [
        "# Predict on both the training and testing data.\n",
        "# This is used to evaluate how well our model has learned and generalized.\n",
        "y_train_pred = model.predict(X_train_poly)\n",
        "y_test_pred = model.predict(X_test_poly)"
      ],
      "metadata": {
        "id": "ewGybonkEE9K"
      },
      "execution_count": null,
      "outputs": []
    },
    {
      "cell_type": "code",
      "source": [
        "# Calculate and print performance metrics.\n",
        "# RMSE (Root Mean Squared Error) and R2 (Coefficient of Determination) are used to assess the model's accuracy.\n",
        "train_rmse = mean_squared_error(y_train, y_train_pred, squared=False)\n",
        "test_rmse = mean_squared_error(y_test, y_test_pred, squared=False)\n",
        "train_r2 = r2_score(y_train, y_train_pred)\n",
        "test_r2 = r2_score(y_test, y_test_pred)"
      ],
      "metadata": {
        "id": "JLaq6XC-EGrR"
      },
      "execution_count": null,
      "outputs": []
    },
    {
      "cell_type": "code",
      "source": [
        "# Print out the metrics to see how well the model performs.\n",
        "print(\"Training RMSE:\", train_rmse)\n",
        "print(\"Test RMSE:\", test_rmse)\n",
        "print(\"Training R2:\", train_r2)\n",
        "print(\"Test R2:\", test_r2)"
      ],
      "metadata": {
        "id": "g4gsWMbhEJCg"
      },
      "execution_count": null,
      "outputs": []
    }
  ]
}