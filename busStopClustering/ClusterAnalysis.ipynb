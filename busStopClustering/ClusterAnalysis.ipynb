{
 "cells": [
  {
   "cell_type": "code",
   "execution_count": null,
   "metadata": {},
   "outputs": [],
   "source": [
    "## @author: Busra Zenbilci \n",
    "## 20170808054"
   ]
  },
  {
   "cell_type": "code",
   "execution_count": null,
   "metadata": {},
   "outputs": [],
   "source": [
    "import pandas as pd\n",
    "import numpy as np\n",
    "import folium\n",
    "from sklearn.cluster import KMeans\n",
    "from sklearn.preprocessing import StandardScaler\n",
    "from scipy.spatial import Delaunay\n",
    "from sklearn.metrics import silhouette_score"
   ]
  },
  {
   "cell_type": "code",
   "execution_count": null,
   "metadata": {},
   "outputs": [],
   "source": [
    "file_path = '24b_datamining_bsboarding (3).csv'\n",
    "data = pd.read_csv(file_path)"
   ]
  },
  {
   "cell_type": "code",
   "execution_count": null,
   "metadata": {},
   "outputs": [],
   "source": [
    "features = data[['Latitude', 'Longitude']]"
   ]
  },
  {
   "cell_type": "code",
   "execution_count": null,
   "metadata": {},
   "outputs": [],
   "source": [
    "scaler = StandardScaler()\n",
    "scaled_features = scaler.fit_transform(features)"
   ]
  },
  {
   "cell_type": "code",
   "execution_count": null,
   "metadata": {},
   "outputs": [],
   "source": [
    "# Silhouette for find to k-means\n",
    "silhouette_scores = []\n",
    "for k in range(2, 15):\n",
    "    kmeans = KMeans(n_clusters=k, random_state=42)\n",
    "    kmeans_labels = kmeans.fit_predict(scaled_features)\n",
    "    silhouette_scores.append(silhouette_score(scaled_features, kmeans_labels))"
   ]
  },
  {
   "cell_type": "code",
   "execution_count": null,
   "metadata": {},
   "outputs": [],
   "source": [
    "# K-Means is 4\n",
    "k_value = 4\n",
    "kmeans = KMeans(n_clusters=k_value, random_state=42)\n",
    "clusters = kmeans.fit_predict(scaled_features)"
   ]
  },
  {
   "cell_type": "code",
   "execution_count": null,
   "metadata": {},
   "outputs": [],
   "source": [
    "# Add results to dataset\n",
    "data['Cluster'] = clusters"
   ]
  },
  {
   "cell_type": "code",
   "execution_count": null,
   "metadata": {},
   "outputs": [],
   "source": [
    "# Folium map\n",
    "map_center = [data['Latitude'].mean(), data['Longitude'].mean()]\n",
    "map_bus_stops = folium.Map(location=map_center, zoom_start=12)"
   ]
  },
  {
   "cell_type": "code",
   "execution_count": null,
   "metadata": {},
   "outputs": [],
   "source": [
    "# We use colors to show clusters\n",
    "colors = ['#FF6347', '#87CEFA', '#FFD700', '#FF69B4', '#B0E0E6']"
   ]
  },
  {
   "cell_type": "code",
   "execution_count": null,
   "metadata": {},
   "outputs": [],
   "source": [
    "# Determining the size of circles proportional to BoardingCount\n",
    "max_boarding_count = data['BoardingCount'].max()\n",
    "min_radius = 3\n",
    "max_radius = 30"
   ]
  },
  {
   "cell_type": "code",
   "execution_count": null,
   "metadata": {},
   "outputs": [],
   "source": [
    "# Add BusStops to the map\n",
    "for idx, row in data.iterrows():\n",
    "    cluster_color = colors[int(row['Cluster']) % len(colors)]\n",
    "    # calculates the radius of a circle representing a bus stop based on the boarding count,\n",
    "    # ensuring that stops with higher boarding counts are depicted with larger circles\n",
    "    radius = min_radius + (max_radius - min_radius) * (row['BoardingCount'] / max_boarding_count)\n",
    "    folium.CircleMarker(\n",
    "        location=[row['Latitude'], row['Longitude']],\n",
    "        radius=radius,\n",
    "        color=cluster_color,\n",
    "        fill=True,\n",
    "        fill_color=cluster_color,\n",
    "        fill_opacity=0.6,\n",
    "        popup=f\"Bus Stop: {row['BusStop']}<br>Boarding Count: {row['BoardingCount']}<br>Cluster: {row['Cluster']}\"\n",
    "    ).add_to(map_bus_stops)"
   ]
  },
  {
   "cell_type": "code",
   "execution_count": null,
   "metadata": {},
   "outputs": [],
   "source": [
    "## Delaunay Triangulation method\n",
    "# to connect points in a way that maximizes the minimum angle of the triangles,\n",
    "# ensuring the most efficient and natural connections between neighboring points\n",
    "points = data[['Latitude', 'Longitude']].values\n",
    "tri = Delaunay(points)"
   ]
  },
  {
   "cell_type": "code",
   "execution_count": null,
   "metadata": {},
   "outputs": [],
   "source": [
    "# Add edges to the map\n",
    "for simplex in tri.simplices:\n",
    "    for i in range(3):\n",
    "        start = points[simplex[i]]\n",
    "        end = points[simplex[(i + 1) % 3]]\n",
    "        distance = np.linalg.norm(start - end)\n",
    "        # don't add only very distant and very close edges\n",
    "        if distance <= 0.01 and distance >= 0.001:\n",
    "            folium.PolyLine(\n",
    "                locations=[start, end],\n",
    "                color='gray',\n",
    "                weight=1,\n",
    "                opacity=0.7\n",
    "            ).add_to(map_bus_stops)"
   ]
  },
  {
   "cell_type": "code",
   "execution_count": null,
   "metadata": {},
   "outputs": [],
   "source": [
    "# Save and show the map\n",
    "map_bus_stops.save('bus_stops_kmeans_clusters.html')\n",
    "map_bus_stops"
   ]
  }
 ],
 "metadata": {
  "language_info": {
   "name": "python"
  }
 },
 "nbformat": 4,
 "nbformat_minor": 2
}
